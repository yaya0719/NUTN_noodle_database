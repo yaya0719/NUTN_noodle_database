{
  "cells": [
    {
      "cell_type": "markdown",
      "metadata": {
        "id": "px0oYywh-4tx"
      },
      "source": [
        "# A Hybrid Quantum Genetic Algorithm\n",
        "### by Giovanni Acampora and Autilia Vitiello\n",
        "### Published in Elsevier Information Sciences"
      ]
    },
    {
      "cell_type": "markdown",
      "metadata": {
        "id": "4fNq5zZE-4ty"
      },
      "source": [
        "#### Abstract\n",
        "HQGA is a new evolutionary algorithm implemented with the support of a real quantum processor, a computing device which uses phenomena from quantum mechanics to enable a considerable speed-up in computation. In particular, the proposed approach uses quantum superposition and entanglement to implement quantum evolutionary concepts such as quantum chromosome, entangled crossover, rotation mutation, and quantum elitism, to efficiently perform genetic evolution on quantum devices, and converge towards proper sub-optimal solutions of a given optimization problem. The proposed quantum genetic algorithm has been implemented by using a hybrid approach, where classical processors interact with the family of quantum processors provided by the IBM Quantum Experience project. This notebook allows researchers in quantum computing and artificial intelligence to test our proposal on a set of well-know benchmark function."
      ]
    },
    {
      "cell_type": "markdown",
      "metadata": {
        "id": "10h7GUsP-4ty"
      },
      "source": [
        "#### Importing Modules\n",
        "The first step to run HQGA is to import the required Python modules."
      ]
    },
    {
      "cell_type": "code",
      "execution_count": 1,
      "metadata": {
        "id": "TVxi5vP9-4tz"
      },
      "outputs": [],
      "source": [
        "from qiskit import IBMQ\n",
        "from qiskit import Aer\n",
        "from math import pi\n",
        "import matplotlib.pyplot as plt\n",
        "\n",
        "from HQGA import problems as p\n",
        "from HQGA import hqga_algorithm\n",
        "from HQGA import hqga_utils\n",
        "from HQGA import utils\n"
      ]
    },
    {
      "cell_type": "markdown",
      "metadata": {
        "id": "6G2N5Lh_-4tz"
      },
      "source": [
        "#### Setting the problem\n",
        "The second step is to define the problem to be solved by HQGA. You can select among ten problems referred as to *Problem02* for test case F1, *Problem04* for test case F2, *Problem05* for test case F3, *Problem06* for test case F4, *Problem07* for test case F5, *Problem09* for test case F6, *Problem10* for test case F7, *Problem13* for test case F8, *Problem14* for test case F9 and *Problem15* for test case F10.\n",
        "\n",
        "The variable *b* is used in the discretization procedure."
      ]
    },
    {
      "cell_type": "code",
      "execution_count": 2,
      "metadata": {
        "id": "p-QoUPaC-4t0",
        "outputId": "169444a9-4d7f-41fa-9bf6-31df113a532f",
        "colab": {
          "base_uri": "https://localhost:8080/",
          "height": 433
        }
      },
      "outputs": [
        {
          "output_type": "display_data",
          "data": {
            "text/plain": [
              "<Figure size 640x480 with 1 Axes>"
            ],
            "image/png": "[encoded data removed]"
          },
          "metadata": {}
        }
      ],
      "source": [
        "b = 5\n",
        "\n",
        "# you can change the string Problem02 with another one among:\n",
        "# Problem04, Problem05, Problem06, Problem07, Problem09, Problem10, Problem13, Problem14, Problem15\n",
        "\n",
        "def display(problem):\n",
        " sols, gray_sols, fitnesses = problem.getWholeSpace()\n",
        " plt.plot(sols, fitnesses)\n",
        "\n",
        "problem=p.Problem02(num_bit_code=b)\n",
        "display(problem)"
      ]
    },
    {
      "cell_type": "markdown",
      "metadata": {
        "id": "2cgiCG92-4t0"
      },
      "source": [
        "#### Defining the quantum backend\n",
        "The third step is to define the quantum backed to be used to run HQGA. To use the IBM quantum hardware, it is necessary to have an IBM account. Please, create your account at the website https://quantum-computing.ibm.com/ and set the python variable named *account_token* to your token. However, it is possible also to simulate HQGA by using a quantum simulator. In this case, IBM account is not required. Please, set the variable *real_quantum_hardware* to True if you want use the real qauntum hardware, to keep it to False, if you want use the quantum simulator. It is worth noting that, the real quantum processor provided by IBM with a public access equipped with the greatest number of qubits is named *melbourne* (precisely 15 qubits). Therefore, we set this processor as real quantum backend.\n",
        "\n",
        "<font color='red'>**ATTENTION: the real quantum processors are accessed by a cloud approach based on a fair queue strategy. Therefore, if you use real quantum harware, the execution of HQGA could need a lot of time.**</font>"
      ]
    },
    {
      "cell_type": "code",
      "execution_count": 3,
      "metadata": {
        "id": "wqyio1UP-4t0"
      },
      "outputs": [],
      "source": [
        "real_quantum_hardware = False\n",
        "\n",
        "if real_quantum_hardware:\n",
        "    #load account\n",
        "    account_token = \"\"\n",
        "    IBMQ.save_account(account_token)\n",
        "    IBMQ.load_account()\n",
        "    provider = IBMQ.get_provider(group = 'open')\n",
        "    backend = provider.get_backend('ibmq_16_melbourne')\n",
        "else:\n",
        "    backend = Aer.get_backend('aer_simulator')\n",
        "device_features=hqga_utils.device(backend)"
      ]
    },
    {
      "cell_type": "markdown",
      "metadata": {
        "id": "nEPueR6v-4t1"
      },
      "source": [
        "#### Setting HQGA hyperparameters\n",
        "The fourth step is to set the hyper-parameters of HQGA. In this example, the number of chromosomes *k* is set to 3, the maximum number of iterations *max_gen* is set to 5, the $\\delta$ value used during the initialization procedure is set to $\\frac{\\pi}{8}$, the $\\mu$ value representing\n",
        "the probability to apply the mutation is set to 0.3 and the $\\rho$ value used when the reinforcement elitism is applied is set to $\\frac{\\pi}{16}$. The selected elitism is the quantum elitism. You can change the elitism strategy by setting the variable *elitism* to ELITISM_D for the deterministic elitism or to ELITISM_R for the quantum elitism with reinforcement."
      ]
    },
    {
      "cell_type": "code",
      "execution_count": 4,
      "metadata": {
        "id": "FyKLeBGc-4t1"
      },
      "outputs": [],
      "source": [
        "#hyper-parameters in the case of the quantum elitism\n",
        "k = 3\n",
        "max_gen = 5\n",
        "delta = pi/8\n",
        "mu = 0.3\n",
        "rho = pi/16\n",
        "elitism = hqga_utils.ELITISM_Q\n",
        "\n",
        "if elitism == hqga_utils.ELITISM_Q or elitism == hqga_utils.ELITISM_D:\n",
        "    params = hqga_utils.Parameters(k,max_gen,delta,mu, elitism)\n",
        "elif elitism == hqga_utils.ELITISM_R:\n",
        "    params = hqga_utils.ReinforcementParameters(k,max_gen, delta, rho, mu)\n",
        "else:\n",
        "    print(\"Please, select one elitism procedure among ELITISM_Q, ELITISM_D and ELITISM_R\")"
      ]
    },
    {
      "cell_type": "markdown",
      "metadata": {
        "id": "sF4Ld1k1-4t1"
      },
      "source": [
        "#### Setting visualization parameters\n",
        "This setting allows users to obtain the visualization of the circuits (*draw_circuit=True*), the visualization of the classical chromosomes and the relative fitness values (*verbose = True*) and, finally, the visualization of a progress bar to monitor the number of iterations (*progressBar = True*)."
      ]
    },
    {
      "cell_type": "code",
      "execution_count": 5,
      "metadata": {
        "id": "7gN4RHdO-4t1"
      },
      "outputs": [],
      "source": [
        "#presentation hyper-parameters\n",
        "params.progressBar = True\n",
        "params.verbose = True\n",
        "params.draw_circuit = True"
      ]
    },
    {
      "cell_type": "markdown",
      "metadata": {
        "id": "ZHngsxQS-4t1"
      },
      "source": [
        "#### Setting up HQGA quantum circuit\n",
        "The fifth step is to create an empty circuit with the required number of qubits."
      ]
    },
    {
      "cell_type": "code",
      "execution_count": 6,
      "metadata": {
        "id": "iummkJAj-4t1"
      },
      "outputs": [],
      "source": [
        "# build circuit\n",
        "circuit = hqga_utils.setupCircuit(params.pop_size, problem.dim * problem.num_bit_code)\n",
        "#print(circuit)"
      ]
    },
    {
      "cell_type": "markdown",
      "metadata": {
        "id": "Fu3g5c3h-4t2"
      },
      "source": [
        "#### Executing HQGA\n",
        "The last step is to run HQGA. At the end of the execution, this code displays the best solution, the optimal solution to the problem and the Hamming distance among them in order to assess the quality of the generated solution."
      ]
    },
    {
      "cell_type": "code",
      "execution_count": 7,
      "metadata": {
        "id": "XKu9q7Sq-4t2",
        "outputId": "49a24800-31e9-40ca-86c8-ca29ba6e9153",
        "colab": {
          "base_uri": "https://localhost:8080/"
        }
      },
      "outputs": [
        {
          "output_type": "stream",
          "name": "stderr",
          "text": [
            "\rGenerations:   0%|          | 0/6 [00:00<?, ?it/s]"
          ]
        },
        {
          "output_type": "stream",
          "name": "stdout",
          "text": [
            "      ┌───┐┌──────────┐ ░ ┌─┐                                          \n",
            "q0_0: ┤ H ├┤ Ry(-π/8) ├─░─┤M├──────────────────────────────────────────\n",
            "      ├───┤├──────────┤ ░ └╥┘┌─┐                                       \n",
            "q0_1: ┤ H ├┤ Ry(-π/8) ├─░──╫─┤M├───────────────────────────────────────\n",
            "      ├───┤├─────────┬┘ ░  ║ └╥┘┌─┐                                    \n",
            "q0_2: ┤ H ├┤ Ry(π/8) ├──░──╫──╫─┤M├────────────────────────────────────\n",
            "      ├───┤├─────────┴┐ ░  ║  ║ └╥┘┌─┐                                 \n",
            "q0_3: ┤ H ├┤ Ry(-π/8) ├─░──╫──╫──╫─┤M├─────────────────────────────────\n",
            "      ├───┤├──────────┤ ░  ║  ║  ║ └╥┘┌─┐                              \n",
            "q0_4: ┤ H ├┤ Ry(-π/8) ├─░──╫──╫──╫──╫─┤M├──────────────────────────────\n",
            "      ├───┤├─────────┬┘ ░  ║  ║  ║  ║ └╥┘┌─┐                           \n",
            "q1_0: ┤ H ├┤ Ry(π/8) ├──░──╫──╫──╫──╫──╫─┤M├───────────────────────────\n",
            "      ├───┤├─────────┴┐ ░  ║  ║  ║  ║  ║ └╥┘┌─┐                        \n",
            "q1_1: ┤ H ├┤ Ry(-π/8) ├─░──╫──╫──╫──╫──╫──╫─┤M├────────────────────────\n",
            "      ├───┤├──────────┤ ░  ║  ║  ║  ║  ║  ║ └╥┘┌─┐                     \n",
            "q1_2: ┤ H ├┤ Ry(-π/8) ├─░──╫──╫──╫──╫──╫──╫──╫─┤M├─────────────────────\n",
            "      ├───┤├──────────┤ ░  ║  ║  ║  ║  ║  ║  ║ └╥┘┌─┐                  \n",
            "q1_3: ┤ H ├┤ Ry(-π/8) ├─░──╫──╫──╫──╫──╫──╫──╫──╫─┤M├──────────────────\n",
            "      ├───┤├─────────┬┘ ░  ║  ║  ║  ║  ║  ║  ║  ║ └╥┘┌─┐               \n",
            "q1_4: ┤ H ├┤ Ry(π/8) ├──░──╫──╫──╫──╫──╫──╫──╫──╫──╫─┤M├───────────────\n",
            "      ├───┤├─────────┴┐ ░  ║  ║  ║  ║  ║  ║  ║  ║  ║ └╥┘┌─┐            \n",
            "q2_0: ┤ H ├┤ Ry(-π/8) ├─░──╫──╫──╫──╫──╫──╫──╫──╫──╫──╫─┤M├────────────\n",
            "      ├───┤├──────────┤ ░  ║  ║  ║  ║  ║  ║  ║  ║  ║  ║ └╥┘┌─┐         \n",
            "q2_1: ┤ H ├┤ Ry(-π/8) ├─░──╫──╫──╫──╫──╫──╫──╫──╫──╫──╫──╫─┤M├─────────\n",
            "      ├───┤├──────────┤ ░  ║  ║  ║  ║  ║  ║  ║  ║  ║  ║  ║ └╥┘┌─┐      \n",
            "q2_2: ┤ H ├┤ Ry(-π/8) ├─░──╫──╫──╫──╫──╫──╫──╫──╫──╫──╫──╫──╫─┤M├──────\n",
            "      ├───┤├─────────┬┘ ░  ║  ║  ║  ║  ║  ║  ║  ║  ║  ║  ║  ║ └╥┘┌─┐   \n",
            "q2_3: ┤ H ├┤ Ry(π/8) ├──░──╫──╫──╫──╫──╫──╫──╫──╫──╫──╫──╫──╫──╫─┤M├───\n",
            "      ├───┤├─────────┤  ░  ║  ║  ║  ║  ║  ║  ║  ║  ║  ║  ║  ║  ║ └╥┘┌─┐\n",
            "q2_4: ┤ H ├┤ Ry(π/8) ├──░──╫──╫──╫──╫──╫──╫──╫──╫──╫──╫──╫──╫──╫──╫─┤M├\n",
            "      └───┘└─────────┘  ░  ║  ║  ║  ║  ║  ║  ║  ║  ║  ║  ║  ║  ║  ║ └╥┘\n",
            "c0: 5/═════════════════════╩══╩══╩══╩══╩══╬══╬══╬══╬══╬══╬══╬══╬══╬══╬═\n",
            "                           0  1  2  3  4  ║  ║  ║  ║  ║  ║  ║  ║  ║  ║ \n",
            "c1: 5/════════════════════════════════════╩══╩══╩══╩══╩══╬══╬══╬══╬══╬═\n",
            "                                          0  1  2  3  4  ║  ║  ║  ║  ║ \n",
            "c2: 5/═══════════════════════════════════════════════════╩══╩══╩══╩══╩═\n",
            "                                                         0  1  2  3  4 \n",
            "Circuit depth is  3\n"
          ]
        },
        {
          "output_type": "stream",
          "name": "stderr",
          "text": [
            "\rGenerations:  17%|█▋        | 1/6 [00:00<00:03,  1.27it/s]"
          ]
        },
        {
          "output_type": "stream",
          "name": "stdout",
          "text": [
            "\n",
            "Chromosomes ['11010', '00010', '00101']\n",
            "Phenotypes: [[5.641935483870968], [3.164516129032258], [3.6290322580645165]]\n",
            "Fitness values: [-0.6412884146897259, -0.9245884815156366, -0.9208916570136251]\n",
            "Best fitness -0.9245884815156366 ; index best  1\n",
            "                        ░ ┌───┐           ░             ░ ┌─┐                                          \n",
            "q0_0: ──────────────────░─┤ X ├───────────░─────────────░─┤M├──────────────────────────────────────────\n",
            "                        ░ └─┬─┘┌───┐      ░             ░ └╥┘┌─┐                                       \n",
            "q0_1: ──────────────────░───┼──┤ X ├──────░─────────────░──╫─┤M├───────────────────────────────────────\n",
            "                        ░   │  └─┬─┘┌───┐ ░             ░  ║ └╥┘┌─┐                                    \n",
            "q0_2: ──────────────────░───┼────┼──┤ X ├─░─────────────░──╫──╫─┤M├────────────────────────────────────\n",
            "      ┌───┐┌──────────┐ ░   │    │  └─┬─┘ ░             ░  ║  ║ └╥┘┌─┐                                 \n",
            "q0_3: ┤ H ├┤ Ry(-π/8) ├─░───┼────┼────┼───░─────────────░──╫──╫──╫─┤M├─────────────────────────────────\n",
            "      ├───┤├──────────┤ ░   │    │    │   ░ ┌─────────┐ ░  ║  ║  ║ └╥┘┌─┐                              \n",
            "q0_4: ┤ H ├┤ Ry(-π/8) ├─░───┼────┼────┼───░─┤ Ry(π/4) ├─░──╫──╫──╫──╫─┤M├──────────────────────────────\n",
            "      ├───┤├─────────┬┘ ░   │    │    │   ░ └─────────┘ ░  ║  ║  ║  ║ └╥┘┌─┐                           \n",
            "q1_0: ┤ H ├┤ Ry(π/8) ├──░───■────┼────┼───░─────────────░──╫──╫──╫──╫──╫─┤M├───────────────────────────\n",
            "      ├───┤├─────────┴┐ ░        │    │   ░             ░  ║  ║  ║  ║  ║ └╥┘┌─┐                        \n",
            "q1_1: ┤ H ├┤ Ry(-π/8) ├─░────────■────┼───░─────────────░──╫──╫──╫──╫──╫──╫─┤M├────────────────────────\n",
            "      ├───┤├──────────┤ ░             │   ░             ░  ║  ║  ║  ║  ║  ║ └╥┘┌─┐                     \n",
            "q1_2: ┤ H ├┤ Ry(-π/8) ├─░─────────────■───░─────────────░──╫──╫──╫──╫──╫──╫──╫─┤M├─────────────────────\n",
            "      ├───┤├──────────┤ ░                 ░             ░  ║  ║  ║  ║  ║  ║  ║ └╥┘┌─┐                  \n",
            "q1_3: ┤ H ├┤ Ry(-π/8) ├─░───■─────────────░─────────────░──╫──╫──╫──╫──╫──╫──╫──╫─┤M├──────────────────\n",
            "      ├───┤├─────────┬┘ ░   │             ░             ░  ║  ║  ║  ║  ║  ║  ║  ║ └╥┘┌─┐               \n",
            "q1_4: ┤ H ├┤ Ry(π/8) ├──░───┼────■────────░─────────────░──╫──╫──╫──╫──╫──╫──╫──╫──╫─┤M├───────────────\n",
            "      ├───┤├─────────┴┐ ░   │    │        ░             ░  ║  ║  ║  ║  ║  ║  ║  ║  ║ └╥┘┌─┐            \n",
            "q2_0: ┤ H ├┤ Ry(-π/8) ├─░───┼────┼────────░─────────────░──╫──╫──╫──╫──╫──╫──╫──╫──╫──╫─┤M├────────────\n",
            "      ├───┤├──────────┤ ░   │    │        ░             ░  ║  ║  ║  ║  ║  ║  ║  ║  ║  ║ └╥┘┌─┐         \n",
            "q2_1: ┤ H ├┤ Ry(-π/8) ├─░───┼────┼────────░─────────────░──╫──╫──╫──╫──╫──╫──╫──╫──╫──╫──╫─┤M├─────────\n",
            "      ├───┤├──────────┤ ░   │    │        ░ ┌─────────┐ ░  ║  ║  ║  ║  ║  ║  ║  ║  ║  ║  ║ └╥┘┌─┐      \n",
            "q2_2: ┤ H ├┤ Ry(-π/8) ├─░───┼────┼────────░─┤ Ry(π/4) ├─░──╫──╫──╫──╫──╫──╫──╫──╫──╫──╫──╫──╫─┤M├──────\n",
            "      └───┘└──────────┘ ░ ┌─┴─┐  │        ░ └─────────┘ ░  ║  ║  ║  ║  ║  ║  ║  ║  ║  ║  ║  ║ └╥┘┌─┐   \n",
            "q2_3: ──────────────────░─┤ X ├──┼────────░─────────────░──╫──╫──╫──╫──╫──╫──╫──╫──╫──╫──╫──╫──╫─┤M├───\n",
            "                        ░ └───┘┌─┴─┐      ░             ░  ║  ║  ║  ║  ║  ║  ║  ║  ║  ║  ║  ║  ║ └╥┘┌─┐\n",
            "q2_4: ──────────────────░──────┤ X ├──────░─────────────░──╫──╫──╫──╫──╫──╫──╫──╫──╫──╫──╫──╫──╫──╫─┤M├\n",
            "                        ░      └───┘      ░             ░  ║  ║  ║  ║  ║  ║  ║  ║  ║  ║  ║  ║  ║  ║ └╥┘\n",
            "c0: 5/═════════════════════════════════════════════════════╩══╩══╩══╩══╩══╬══╬══╬══╬══╬══╬══╬══╬══╬══╬═\n",
            "                                                           0  1  2  3  4  ║  ║  ║  ║  ║  ║  ║  ║  ║  ║ \n",
            "c1: 5/════════════════════════════════════════════════════════════════════╩══╩══╩══╩══╩══╬══╬══╬══╬══╬═\n",
            "                                                                          0  1  2  3  4  ║  ║  ║  ║  ║ \n",
            "c2: 5/═══════════════════════════════════════════════════════════════════════════════════╩══╩══╩══╩══╩═\n",
            "                                                                                         0  1  2  3  4 \n",
            "Circuit depth is  5\n"
          ]
        },
        {
          "output_type": "stream",
          "name": "stderr",
          "text": [
            "\rGenerations:  33%|███▎      | 2/6 [00:01<00:02,  1.68it/s]"
          ]
        },
        {
          "output_type": "stream",
          "name": "stdout",
          "text": [
            "\n",
            "Chromosomes ['10011', '10001', '11101']\n",
            "Phenotypes: [[7.190322580645161], [7.345161290322581], [6.106451612903227]]\n",
            "Fitness values: [-0.13104453831022211, 0.2690331288583562, 0.822039665733065]\n",
            "Best fitness -0.13104453831022211 ; index best  0\n",
            "      ┌───┐┌─────────┐  ░                           ░              ░ ┌─┐                                          \n",
            "q0_0: ┤ H ├┤ Ry(π/8) ├──░───■───────────────────────░──────────────░─┤M├──────────────────────────────────────────\n",
            "      ├───┤├─────────┴┐ ░   │                       ░              ░ └╥┘┌─┐                                       \n",
            "q0_1: ┤ H ├┤ Ry(-π/8) ├─░───┼────■──────────────────░──────────────░──╫─┤M├───────────────────────────────────────\n",
            "      ├───┤├──────────┤ ░   │    │                  ░              ░  ║ └╥┘┌─┐                                    \n",
            "q0_2: ┤ H ├┤ Ry(-π/8) ├─░───┼────┼────■─────────────░──────────────░──╫──╫─┤M├────────────────────────────────────\n",
            "      ├───┤├──────────┤ ░   │    │    │             ░              ░  ║  ║ └╥┘┌─┐                                 \n",
            "q0_3: ┤ H ├┤ Ry(-π/8) ├─░───┼────┼────┼────■────────░──────────────░──╫──╫──╫─┤M├─────────────────────────────────\n",
            "      ├───┤├─────────┬┘ ░   │    │    │    │        ░              ░  ║  ║  ║ └╥┘┌─┐                              \n",
            "q0_4: ┤ H ├┤ Ry(π/8) ├──░───┼────┼────┼────┼────■───░──────────────░──╫──╫──╫──╫─┤M├──────────────────────────────\n",
            "      └───┘└─────────┘  ░ ┌─┴─┐  │    │    │    │   ░              ░  ║  ║  ║  ║ └╥┘┌─┐                           \n",
            "q1_0: ──────────────────░─┤ X ├──┼────┼────┼────┼───░──────────────░──╫──╫──╫──╫──╫─┤M├───────────────────────────\n",
            "                        ░ └───┘┌─┴─┐  │    │    │   ░              ░  ║  ║  ║  ║  ║ └╥┘┌─┐                        \n",
            "q1_1: ──────────────────░──────┤ X ├──┼────┼────┼───░──────────────░──╫──╫──╫──╫──╫──╫─┤M├────────────────────────\n",
            "                        ░      └───┘┌─┴─┐  │    │   ░              ░  ║  ║  ║  ║  ║  ║ └╥┘┌─┐                     \n",
            "q1_2: ──────────────────░───────────┤ X ├──┼────┼───░──────────────░──╫──╫──╫──╫──╫──╫──╫─┤M├─────────────────────\n",
            "      ┌───┐┌──────────┐ ░           └───┘  │    │   ░ ┌─────────┐  ░  ║  ║  ║  ║  ║  ║  ║ └╥┘┌─┐                  \n",
            "q1_3: ┤ H ├┤ Ry(-π/8) ├─░──────────────────┼────┼───░─┤ Ry(π/4) ├──░──╫──╫──╫──╫──╫──╫──╫──╫─┤M├──────────────────\n",
            "      ├───┤├─────────┬┘ ░                  │    │   ░ └─────────┘  ░  ║  ║  ║  ║  ║  ║  ║  ║ └╥┘┌─┐               \n",
            "q1_4: ┤ H ├┤ Ry(π/8) ├──░──────────────────┼────┼───░──────────────░──╫──╫──╫──╫──╫──╫──╫──╫──╫─┤M├───────────────\n",
            "      ├───┤├─────────┴┐ ░                  │    │   ░              ░  ║  ║  ║  ║  ║  ║  ║  ║  ║ └╥┘┌─┐            \n",
            "q2_0: ┤ H ├┤ Ry(-π/8) ├─░──────────────────┼────┼───░──────────────░──╫──╫──╫──╫──╫──╫──╫──╫──╫──╫─┤M├────────────\n",
            "      ├───┤├──────────┤ ░                  │    │   ░ ┌─────────┐  ░  ║  ║  ║  ║  ║  ║  ║  ║  ║  ║ └╥┘┌─┐         \n",
            "q2_1: ┤ H ├┤ Ry(-π/8) ├─░──────────────────┼────┼───░─┤ Ry(π/4) ├──░──╫──╫──╫──╫──╫──╫──╫──╫──╫──╫──╫─┤M├─────────\n",
            "      ├───┤├─────────┬┘ ░                  │    │   ░ ├─────────┴┐ ░  ║  ║  ║  ║  ║  ║  ║  ║  ║  ║  ║ └╥┘┌─┐      \n",
            "q2_2: ┤ H ├┤ Ry(π/8) ├──░──────────────────┼────┼───░─┤ Ry(-π/4) ├─░──╫──╫──╫──╫──╫──╫──╫──╫──╫──╫──╫──╫─┤M├──────\n",
            "      └───┘└─────────┘  ░                ┌─┴─┐  │   ░ └──────────┘ ░  ║  ║  ║  ║  ║  ║  ║  ║  ║  ║  ║  ║ └╥┘┌─┐   \n",
            "q2_3: ──────────────────░────────────────┤ X ├──┼───░──────────────░──╫──╫──╫──╫──╫──╫──╫──╫──╫──╫──╫──╫──╫─┤M├───\n",
            "                        ░                └───┘┌─┴─┐ ░              ░  ║  ║  ║  ║  ║  ║  ║  ║  ║  ║  ║  ║  ║ └╥┘┌─┐\n",
            "q2_4: ──────────────────░─────────────────────┤ X ├─░──────────────░──╫──╫──╫──╫──╫──╫──╫──╫──╫──╫──╫──╫──╫──╫─┤M├\n",
            "                        ░                     └───┘ ░              ░  ║  ║  ║  ║  ║  ║  ║  ║  ║  ║  ║  ║  ║  ║ └╥┘\n",
            "c0: 5/════════════════════════════════════════════════════════════════╩══╩══╩══╩══╩══╬══╬══╬══╬══╬══╬══╬══╬══╬══╬═\n",
            "                                                                      0  1  2  3  4  ║  ║  ║  ║  ║  ║  ║  ║  ║  ║ \n",
            "c1: 5/═══════════════════════════════════════════════════════════════════════════════╩══╩══╩══╩══╩══╬══╬══╬══╬══╬═\n",
            "                                                                                     0  1  2  3  4  ║  ║  ║  ║  ║ \n",
            "c2: 5/══════════════════════════════════════════════════════════════════════════════════════════════╩══╩══╩══╩══╩═\n",
            "                                                                                                    0  1  2  3  4 \n",
            "Circuit depth is  5\n"
          ]
        },
        {
          "output_type": "stream",
          "name": "stderr",
          "text": [
            "\rGenerations:  50%|█████     | 3/6 [00:01<00:01,  1.72it/s]"
          ]
        },
        {
          "output_type": "stream",
          "name": "stdout",
          "text": [
            "\n",
            "Chromosomes ['00001', '00011', '11101']\n",
            "Phenotypes: [[2.8548387096774195], [3.009677419354839], [6.106451612903227]]\n",
            "Fitness values: [0.19161614058256682, -0.43926723851242405, 0.822039665733065]\n",
            "Best fitness -0.43926723851242405 ; index best  1\n",
            "                        ░ ┌───┐           ░              ░ ┌─┐                                          \n",
            "q0_0: ──────────────────░─┤ X ├───────────░──────────────░─┤M├──────────────────────────────────────────\n",
            "                        ░ └─┬─┘┌───┐      ░              ░ └╥┘┌─┐                                       \n",
            "q0_1: ──────────────────░───┼──┤ X ├──────░──────────────░──╫─┤M├───────────────────────────────────────\n",
            "                        ░   │  └─┬─┘┌───┐ ░              ░  ║ └╥┘┌─┐                                    \n",
            "q0_2: ──────────────────░───┼────┼──┤ X ├─░──────────────░──╫──╫─┤M├────────────────────────────────────\n",
            "      ┌───┐┌──────────┐ ░   │    │  └─┬─┘ ░              ░  ║  ║ └╥┘┌─┐                                 \n",
            "q0_3: ┤ H ├┤ Ry(-π/8) ├─░───┼────┼────┼───░──────────────░──╫──╫──╫─┤M├─────────────────────────────────\n",
            "      ├───┤├─────────┬┘ ░   │    │    │   ░              ░  ║  ║  ║ └╥┘┌─┐                              \n",
            "q0_4: ┤ H ├┤ Ry(π/8) ├──░───┼────┼────┼───░──────────────░──╫──╫──╫──╫─┤M├──────────────────────────────\n",
            "      ├───┤├─────────┤  ░   │    │    │   ░              ░  ║  ║  ║  ║ └╥┘┌─┐                           \n",
            "q1_0: ┤ H ├┤ Ry(π/8) ├──░───■────┼────┼───░──────────────░──╫──╫──╫──╫──╫─┤M├───────────────────────────\n",
            "      ├───┤├─────────┴┐ ░        │    │   ░              ░  ║  ║  ║  ║  ║ └╥┘┌─┐                        \n",
            "q1_1: ┤ H ├┤ Ry(-π/8) ├─░────────■────┼───░──────────────░──╫──╫──╫──╫──╫──╫─┤M├────────────────────────\n",
            "      ├───┤├──────────┤ ░             │   ░              ░  ║  ║  ║  ║  ║  ║ └╥┘┌─┐                     \n",
            "q1_2: ┤ H ├┤ Ry(-π/8) ├─░─────────────■───░──────────────░──╫──╫──╫──╫──╫──╫──╫─┤M├─────────────────────\n",
            "      ├───┤├─────────┬┘ ░                 ░              ░  ║  ║  ║  ║  ║  ║  ║ └╥┘┌─┐                  \n",
            "q1_3: ┤ H ├┤ Ry(π/8) ├──░───■─────────────░──────────────░──╫──╫──╫──╫──╫──╫──╫──╫─┤M├──────────────────\n",
            "      ├───┤├─────────┤  ░   │             ░              ░  ║  ║  ║  ║  ║  ║  ║  ║ └╥┘┌─┐               \n",
            "q1_4: ┤ H ├┤ Ry(π/8) ├──░───┼────■────────░──────────────░──╫──╫──╫──╫──╫──╫──╫──╫──╫─┤M├───────────────\n",
            "      ├───┤├─────────┴┐ ░   │    │        ░              ░  ║  ║  ║  ║  ║  ║  ║  ║  ║ └╥┘┌─┐            \n",
            "q2_0: ┤ H ├┤ Ry(-π/8) ├─░───┼────┼────────░──────────────░──╫──╫──╫──╫──╫──╫──╫──╫──╫──╫─┤M├────────────\n",
            "      ├───┤├─────────┬┘ ░   │    │        ░ ┌──────────┐ ░  ║  ║  ║  ║  ║  ║  ║  ║  ║  ║ └╥┘┌─┐         \n",
            "q2_1: ┤ H ├┤ Ry(π/8) ├──░───┼────┼────────░─┤ Ry(-π/4) ├─░──╫──╫──╫──╫──╫──╫──╫──╫──╫──╫──╫─┤M├─────────\n",
            "      ├───┤├─────────┴┐ ░   │    │        ░ └──────────┘ ░  ║  ║  ║  ║  ║  ║  ║  ║  ║  ║  ║ └╥┘┌─┐      \n",
            "q2_2: ┤ H ├┤ Ry(-π/8) ├─░───┼────┼────────░──────────────░──╫──╫──╫──╫──╫──╫──╫──╫──╫──╫──╫──╫─┤M├──────\n",
            "      └───┘└──────────┘ ░ ┌─┴─┐  │        ░              ░  ║  ║  ║  ║  ║  ║  ║  ║  ║  ║  ║  ║ └╥┘┌─┐   \n",
            "q2_3: ──────────────────░─┤ X ├──┼────────░──────────────░──╫──╫──╫──╫──╫──╫──╫──╫──╫──╫──╫──╫──╫─┤M├───\n",
            "                        ░ └───┘┌─┴─┐      ░              ░  ║  ║  ║  ║  ║  ║  ║  ║  ║  ║  ║  ║  ║ └╥┘┌─┐\n",
            "q2_4: ──────────────────░──────┤ X ├──────░──────────────░──╫──╫──╫──╫──╫──╫──╫──╫──╫──╫──╫──╫──╫──╫─┤M├\n",
            "                        ░      └───┘      ░              ░  ║  ║  ║  ║  ║  ║  ║  ║  ║  ║  ║  ║  ║  ║ └╥┘\n",
            "c0: 5/══════════════════════════════════════════════════════╩══╩══╩══╩══╩══╬══╬══╬══╬══╬══╬══╬══╬══╬══╬═\n",
            "                                                            0  1  2  3  4  ║  ║  ║  ║  ║  ║  ║  ║  ║  ║ \n",
            "c1: 5/═════════════════════════════════════════════════════════════════════╩══╩══╩══╩══╩══╬══╬══╬══╬══╬═\n",
            "                                                                           0  1  2  3  4  ║  ║  ║  ║  ║ \n",
            "c2: 5/════════════════════════════════════════════════════════════════════════════════════╩══╩══╩══╩══╩═\n",
            "                                                                                          0  1  2  3  4 \n",
            "Circuit depth is  5\n"
          ]
        },
        {
          "output_type": "stream",
          "name": "stderr",
          "text": [
            "\rGenerations:  67%|██████▋   | 4/6 [00:02<00:00,  2.07it/s]"
          ]
        },
        {
          "output_type": "stream",
          "name": "stdout",
          "text": [
            "\n",
            "Chromosomes ['00101', '00110', '00010']\n",
            "Phenotypes: [[3.6290322580645165], [3.3193548387096774], [3.164516129032258]]\n",
            "Fitness values: [-0.9208916570136251, -1.1744519193161516, -0.9245884815156366]\n",
            "Best fitness -1.1744519193161516 ; index best  1\n",
            "                        ░ ┌───┐           ░              ░ ┌─┐                                          \n",
            "q0_0: ──────────────────░─┤ X ├───────────░──────────────░─┤M├──────────────────────────────────────────\n",
            "                        ░ └─┬─┘┌───┐      ░              ░ └╥┘┌─┐                                       \n",
            "q0_1: ──────────────────░───┼──┤ X ├──────░──────────────░──╫─┤M├───────────────────────────────────────\n",
            "                        ░   │  └─┬─┘┌───┐ ░              ░  ║ └╥┘┌─┐                                    \n",
            "q0_2: ──────────────────░───┼────┼──┤ X ├─░──────────────░──╫──╫─┤M├────────────────────────────────────\n",
            "      ┌───┐┌──────────┐ ░   │    │  └─┬─┘ ░              ░  ║  ║ └╥┘┌─┐                                 \n",
            "q0_3: ┤ H ├┤ Ry(-π/8) ├─░───┼────┼────┼───░──────────────░──╫──╫──╫─┤M├─────────────────────────────────\n",
            "      ├───┤├─────────┬┘ ░   │    │    │   ░ ┌──────────┐ ░  ║  ║  ║ └╥┘┌─┐                              \n",
            "q0_4: ┤ H ├┤ Ry(π/8) ├──░───┼────┼────┼───░─┤ Ry(-π/4) ├─░──╫──╫──╫──╫─┤M├──────────────────────────────\n",
            "      ├───┤├─────────┤  ░   │    │    │   ░ └──────────┘ ░  ║  ║  ║  ║ └╥┘┌─┐                           \n",
            "q1_0: ┤ H ├┤ Ry(π/8) ├──░───■────┼────┼───░──────────────░──╫──╫──╫──╫──╫─┤M├───────────────────────────\n",
            "      ├───┤├─────────┴┐ ░        │    │   ░              ░  ║  ║  ║  ║  ║ └╥┘┌─┐                        \n",
            "q1_1: ┤ H ├┤ Ry(-π/8) ├─░────────■────┼───░──────────────░──╫──╫──╫──╫──╫──╫─┤M├────────────────────────\n",
            "      ├───┤├──────────┤ ░             │   ░              ░  ║  ║  ║  ║  ║  ║ └╥┘┌─┐                     \n",
            "q1_2: ┤ H ├┤ Ry(-π/8) ├─░─────────────■───░──────────────░──╫──╫──╫──╫──╫──╫──╫─┤M├─────────────────────\n",
            "      ├───┤├─────────┬┘ ░                 ░              ░  ║  ║  ║  ║  ║  ║  ║ └╥┘┌─┐                  \n",
            "q1_3: ┤ H ├┤ Ry(π/8) ├──░───■─────────────░──────────────░──╫──╫──╫──╫──╫──╫──╫──╫─┤M├──────────────────\n",
            "      ├───┤├─────────┤  ░   │             ░              ░  ║  ║  ║  ║  ║  ║  ║  ║ └╥┘┌─┐               \n",
            "q1_4: ┤ H ├┤ Ry(π/8) ├──░───┼────■────────░──────────────░──╫──╫──╫──╫──╫──╫──╫──╫──╫─┤M├───────────────\n",
            "      ├───┤├─────────┴┐ ░   │    │        ░              ░  ║  ║  ║  ║  ║  ║  ║  ║  ║ └╥┘┌─┐            \n",
            "q2_0: ┤ H ├┤ Ry(-π/8) ├─░───┼────┼────────░──────────────░──╫──╫──╫──╫──╫──╫──╫──╫──╫──╫─┤M├────────────\n",
            "      ├───┤├──────────┤ ░   │    │        ░              ░  ║  ║  ║  ║  ║  ║  ║  ║  ║  ║ └╥┘┌─┐         \n",
            "q2_1: ┤ H ├┤ Ry(-π/8) ├─░───┼────┼────────░──────────────░──╫──╫──╫──╫──╫──╫──╫──╫──╫──╫──╫─┤M├─────────\n",
            "      ├───┤├──────────┤ ░   │    │        ░              ░  ║  ║  ║  ║  ║  ║  ║  ║  ║  ║  ║ └╥┘┌─┐      \n",
            "q2_2: ┤ H ├┤ Ry(-π/8) ├─░───┼────┼────────░──────────────░──╫──╫──╫──╫──╫──╫──╫──╫──╫──╫──╫──╫─┤M├──────\n",
            "      └───┘└──────────┘ ░ ┌─┴─┐  │        ░              ░  ║  ║  ║  ║  ║  ║  ║  ║  ║  ║  ║  ║ └╥┘┌─┐   \n",
            "q2_3: ──────────────────░─┤ X ├──┼────────░──────────────░──╫──╫──╫──╫──╫──╫──╫──╫──╫──╫──╫──╫──╫─┤M├───\n",
            "                        ░ └───┘┌─┴─┐      ░              ░  ║  ║  ║  ║  ║  ║  ║  ║  ║  ║  ║  ║  ║ └╥┘┌─┐\n",
            "q2_4: ──────────────────░──────┤ X ├──────░──────────────░──╫──╫──╫──╫──╫──╫──╫──╫──╫──╫──╫──╫──╫──╫─┤M├\n",
            "                        ░      └───┘      ░              ░  ║  ║  ║  ║  ║  ║  ║  ║  ║  ║  ║  ║  ║  ║ └╥┘\n",
            "c0: 5/══════════════════════════════════════════════════════╩══╩══╩══╩══╩══╬══╬══╬══╬══╬══╬══╬══╬══╬══╬═\n",
            "                                                            0  1  2  3  4  ║  ║  ║  ║  ║  ║  ║  ║  ║  ║ \n",
            "c1: 5/═════════════════════════════════════════════════════════════════════╩══╩══╩══╩══╩══╬══╬══╬══╬══╬═\n",
            "                                                                           0  1  2  3  4  ║  ║  ║  ║  ║ \n",
            "c2: 5/════════════════════════════════════════════════════════════════════════════════════╩══╩══╩══╩══╩═\n",
            "                                                                                          0  1  2  3  4 \n",
            "Circuit depth is  5\n"
          ]
        },
        {
          "output_type": "stream",
          "name": "stderr",
          "text": [
            "\rGenerations:  83%|████████▎ | 5/6 [00:02<00:00,  2.06it/s]"
          ]
        },
        {
          "output_type": "stream",
          "name": "stdout",
          "text": [
            "\n",
            "Chromosomes ['10010', '10001', '00001']\n",
            "Phenotypes: [[7.0354838709677425], [7.345161290322581], [2.8548387096774195]]\n",
            "Fitness values: [-0.31060080552820335, 0.2690331288583562, 0.19161614058256682]\n",
            "Best fitness -0.31060080552820335 ; index best  0\n",
            "      ┌───┐┌─────────┐  ░                           ░              ░ ┌─┐                                          \n",
            "q0_0: ┤ H ├┤ Ry(π/8) ├──░───■───────────────────────░──────────────░─┤M├──────────────────────────────────────────\n",
            "      ├───┤├─────────┴┐ ░   │                       ░              ░ └╥┘┌─┐                                       \n",
            "q0_1: ┤ H ├┤ Ry(-π/8) ├─░───┼────■──────────────────░──────────────░──╫─┤M├───────────────────────────────────────\n",
            "      ├───┤├──────────┤ ░   │    │                  ░              ░  ║ └╥┘┌─┐                                    \n",
            "q0_2: ┤ H ├┤ Ry(-π/8) ├─░───┼────┼────■─────────────░──────────────░──╫──╫─┤M├────────────────────────────────────\n",
            "      ├───┤├──────────┤ ░   │    │    │             ░              ░  ║  ║ └╥┘┌─┐                                 \n",
            "q0_3: ┤ H ├┤ Ry(-π/8) ├─░───┼────┼────┼────■────────░──────────────░──╫──╫──╫─┤M├─────────────────────────────────\n",
            "      ├───┤├──────────┤ ░   │    │    │    │        ░              ░  ║  ║  ║ └╥┘┌─┐                              \n",
            "q0_4: ┤ H ├┤ Ry(-π/8) ├─░───┼────┼────┼────┼────■───░──────────────░──╫──╫──╫──╫─┤M├──────────────────────────────\n",
            "      ├───┤├─────────┬┘ ░   │    │    │    │    │   ░              ░  ║  ║  ║  ║ └╥┘┌─┐                           \n",
            "q1_0: ┤ H ├┤ Ry(π/8) ├──░───┼────┼────┼────┼────┼───░──────────────░──╫──╫──╫──╫──╫─┤M├───────────────────────────\n",
            "      ├───┤├─────────┴┐ ░   │    │    │    │    │   ░              ░  ║  ║  ║  ║  ║ └╥┘┌─┐                        \n",
            "q1_1: ┤ H ├┤ Ry(-π/8) ├─░───┼────┼────┼────┼────┼───░──────────────░──╫──╫──╫──╫──╫──╫─┤M├────────────────────────\n",
            "      ├───┤├──────────┤ ░   │    │    │    │    │   ░ ┌─────────┐  ░  ║  ║  ║  ║  ║  ║ └╥┘┌─┐                     \n",
            "q1_2: ┤ H ├┤ Ry(-π/8) ├─░───┼────┼────┼────┼────┼───░─┤ Ry(π/4) ├──░──╫──╫──╫──╫──╫──╫──╫─┤M├─────────────────────\n",
            "      └───┘└──────────┘ ░   │    │    │  ┌─┴─┐  │   ░ └─────────┘  ░  ║  ║  ║  ║  ║  ║  ║ └╥┘┌─┐                  \n",
            "q1_3: ──────────────────░───┼────┼────┼──┤ X ├──┼───░──────────────░──╫──╫──╫──╫──╫──╫──╫──╫─┤M├──────────────────\n",
            "                        ░   │    │    │  └───┘┌─┴─┐ ░              ░  ║  ║  ║  ║  ║  ║  ║  ║ └╥┘┌─┐               \n",
            "q1_4: ──────────────────░───┼────┼────┼───────┤ X ├─░──────────────░──╫──╫──╫──╫──╫──╫──╫──╫──╫─┤M├───────────────\n",
            "                        ░ ┌─┴─┐  │    │       └───┘ ░              ░  ║  ║  ║  ║  ║  ║  ║  ║  ║ └╥┘┌─┐            \n",
            "q2_0: ──────────────────░─┤ X ├──┼────┼─────────────░──────────────░──╫──╫──╫──╫──╫──╫──╫──╫──╫──╫─┤M├────────────\n",
            "                        ░ └───┘┌─┴─┐  │             ░              ░  ║  ║  ║  ║  ║  ║  ║  ║  ║  ║ └╥┘┌─┐         \n",
            "q2_1: ──────────────────░──────┤ X ├──┼─────────────░──────────────░──╫──╫──╫──╫──╫──╫──╫──╫──╫──╫──╫─┤M├─────────\n",
            "                        ░      └───┘┌─┴─┐           ░              ░  ║  ║  ║  ║  ║  ║  ║  ║  ║  ║  ║ └╥┘┌─┐      \n",
            "q2_2: ──────────────────░───────────┤ X ├───────────░──────────────░──╫──╫──╫──╫──╫──╫──╫──╫──╫──╫──╫──╫─┤M├──────\n",
            "      ┌───┐┌─────────┐  ░           └───┘           ░ ┌──────────┐ ░  ║  ║  ║  ║  ║  ║  ║  ║  ║  ║  ║  ║ └╥┘┌─┐   \n",
            "q2_3: ┤ H ├┤ Ry(π/8) ├──░───────────────────────────░─┤ Ry(-π/4) ├─░──╫──╫──╫──╫──╫──╫──╫──╫──╫──╫──╫──╫──╫─┤M├───\n",
            "      ├───┤├─────────┤  ░                           ░ └──────────┘ ░  ║  ║  ║  ║  ║  ║  ║  ║  ║  ║  ║  ║  ║ └╥┘┌─┐\n",
            "q2_4: ┤ H ├┤ Ry(π/8) ├──░───────────────────────────░──────────────░──╫──╫──╫──╫──╫──╫──╫──╫──╫──╫──╫──╫──╫──╫─┤M├\n",
            "      └───┘└─────────┘  ░                           ░              ░  ║  ║  ║  ║  ║  ║  ║  ║  ║  ║  ║  ║  ║  ║ └╥┘\n",
            "c0: 5/════════════════════════════════════════════════════════════════╩══╩══╩══╩══╩══╬══╬══╬══╬══╬══╬══╬══╬══╬══╬═\n",
            "                                                                      0  1  2  3  4  ║  ║  ║  ║  ║  ║  ║  ║  ║  ║ \n",
            "c1: 5/═══════════════════════════════════════════════════════════════════════════════╩══╩══╩══╩══╩══╬══╬══╬══╬══╬═\n",
            "                                                                                     0  1  2  3  4  ║  ║  ║  ║  ║ \n",
            "c2: 5/══════════════════════════════════════════════════════════════════════════════════════════════╩══╩══╩══╩══╩═\n",
            "                                                                                                    0  1  2  3  4 \n",
            "Circuit depth is  5\n"
          ]
        },
        {
          "output_type": "stream",
          "name": "stderr",
          "text": [
            "Generations: 100%|██████████| 6/6 [00:03<00:00,  1.91it/s]"
          ]
        },
        {
          "output_type": "stream",
          "name": "stdout",
          "text": [
            "\n",
            "Chromosomes ['10000', '10000', '10001']\n",
            "Phenotypes: [[7.5], [7.5], [7.345161290322581]]\n",
            "Fitness values: [0.8056482266769659, 0.8056482266769659, 0.2690331288583562]\n",
            "Best fitness 0.2690331288583562 ; index best  2\n",
            "The best chromosome is:  00110\n",
            "The best phenotype is:  [3.3193548387096774]\n",
            "Its fitness value is:  -1.1744519193161516\n",
            "The fitness evaluations to obtain the best:  12\n",
            "The number of fitness evaluations is:  18\n",
            "Best solution 00110\n",
            "Optimal solutions [['11000']]\n",
            "Hamming distance 4\n"
          ]
        },
        {
          "output_type": "stream",
          "name": "stderr",
          "text": [
            "\n"
          ]
        }
      ],
      "source": [
        "# start test\n",
        "gBest, chromosome_evolution, bests = hqga_algorithm.runQGA(device_features, circuit, params, problem)\n",
        "print(\"Best solution\",gBest.chr)\n",
        "print(\"Optimal solutions\",problem.getOptimum()[2])\n",
        "for each_sol in problem.getOptimum()[2]:\n",
        "    dis = utils.hamming_distance(gBest.chr, each_sol[0])\n",
        "    print(\"Hamming distance\", dis)"
      ]
    },
    {
      "cell_type": "markdown",
      "metadata": {
        "id": "-m_2sy0C-4t2"
      },
      "source": [
        "<h1><center>QUASAR Laboratory. University of Naples Federico II.</center></h1>"
      ]
    },
    {
      "cell_type": "code",
      "execution_count": 1,
      "metadata": {
        "id": "ZmSzLioH-4t2",
        "outputId": "93279416-bd26-47c0-9f0c-f3320258a7c8",
        "colab": {
          "base_uri": "https://localhost:8080/",
          "height": 1000
        }
      },
      "outputs": [
        {
          "output_type": "stream",
          "name": "stdout",
          "text": [
            "Collecting HQGA\n",
            "  Downloading HQGA-0.2.0-py3-none-any.whl.metadata (3.0 kB)\n",
            "Requirement already satisfied: matplotlib in /usr/local/lib/python3.10/dist-packages (from HQGA) (3.8.0)\n",
            "Requirement already satisfied: numpy in /usr/local/lib/python3.10/dist-packages (from HQGA) (1.26.4)\n",
            "Collecting openpyxl==3.1.2 (from HQGA)\n",
            "  Downloading openpyxl-3.1.2-py2.py3-none-any.whl.metadata (2.5 kB)\n",
            "Collecting qiskit==0.42.0 (from HQGA)\n",
            "  Downloading qiskit-0.42.0.tar.gz (14 kB)\n",
            "  Preparing metadata (setup.py) ... \u001b[?25l\u001b[?25hdone\n",
            "Collecting qiskit-aer==0.12.0 (from HQGA)\n",
            "  Downloading qiskit_aer-0.12.0-cp310-cp310-manylinux_2_17_x86_64.manylinux2014_x86_64.whl.metadata (6.2 kB)\n",
            "Collecting qiskit-ibmq-provider==0.20.2 (from HQGA)\n",
            "  Downloading qiskit_ibmq_provider-0.20.2-py3-none-any.whl.metadata (14 kB)\n",
            "Collecting qiskit-terra==0.23.2 (from HQGA)\n",
            "  Downloading qiskit_terra-0.23.2-cp310-cp310-manylinux_2_17_x86_64.manylinux2014_x86_64.whl.metadata (9.6 kB)\n",
            "Requirement already satisfied: sympy in /usr/local/lib/python3.10/dist-packages (from HQGA) (1.13.1)\n",
            "Requirement already satisfied: tqdm in /usr/local/lib/python3.10/dist-packages (from HQGA) (4.67.1)\n",
            "Requirement already satisfied: et-xmlfile in /usr/local/lib/python3.10/dist-packages (from openpyxl==3.1.2->HQGA) (2.0.0)\n",
            "Requirement already satisfied: scipy>=1.0 in /usr/local/lib/python3.10/dist-packages (from qiskit-aer==0.12.0->HQGA) (1.13.1)\n",
            "Requirement already satisfied: requests>=2.19 in /usr/local/lib/python3.10/dist-packages (from qiskit-ibmq-provider==0.20.2->HQGA) (2.32.3)\n",
            "Collecting requests-ntlm<=1.1.0 (from qiskit-ibmq-provider==0.20.2->HQGA)\n",
            "  Downloading requests_ntlm-1.1.0-py2.py3-none-any.whl.metadata (938 bytes)\n",
            "Collecting numpy (from HQGA)\n",
            "  Downloading numpy-1.23.5-cp310-cp310-manylinux_2_17_x86_64.manylinux2014_x86_64.whl.metadata (2.3 kB)\n",
            "Requirement already satisfied: urllib3>=1.21.1 in /usr/local/lib/python3.10/dist-packages (from qiskit-ibmq-provider==0.20.2->HQGA) (2.2.3)\n",
            "Requirement already satisfied: python-dateutil>=2.8.0 in /usr/local/lib/python3.10/dist-packages (from qiskit-ibmq-provider==0.20.2->HQGA) (2.8.2)\n",
            "Requirement already satisfied: websocket-client>=1.5.1 in /usr/local/lib/python3.10/dist-packages (from qiskit-ibmq-provider==0.20.2->HQGA) (1.8.0)\n",
            "Requirement already satisfied: websockets>=10.0 in /usr/local/lib/python3.10/dist-packages (from qiskit-ibmq-provider==0.20.2->HQGA) (14.1)\n",
            "Collecting rustworkx>=0.12.0 (from qiskit-terra==0.23.2->HQGA)\n",
            "  Downloading rustworkx-0.15.1-cp38-abi3-manylinux_2_17_x86_64.manylinux2014_x86_64.whl.metadata (9.9 kB)\n",
            "Requirement already satisfied: ply>=3.10 in /usr/local/lib/python3.10/dist-packages (from qiskit-terra==0.23.2->HQGA) (3.11)\n",
            "Requirement already satisfied: psutil>=5 in /usr/local/lib/python3.10/dist-packages (from qiskit-terra==0.23.2->HQGA) (5.9.5)\n",
            "Collecting dill>=0.3 (from qiskit-terra==0.23.2->HQGA)\n",
            "  Downloading dill-0.3.9-py3-none-any.whl.metadata (10 kB)\n",
            "Collecting stevedore>=3.0.0 (from qiskit-terra==0.23.2->HQGA)\n",
            "  Downloading stevedore-5.4.0-py3-none-any.whl.metadata (2.3 kB)\n",
            "Collecting symengine>=0.9 (from qiskit-terra==0.23.2->HQGA)\n",
            "  Downloading symengine-0.13.0-cp310-cp310-manylinux_2_17_x86_64.manylinux2014_x86_64.whl.metadata (1.2 kB)\n",
            "Requirement already satisfied: mpmath<1.4,>=1.1.0 in /usr/local/lib/python3.10/dist-packages (from sympy->HQGA) (1.3.0)\n",
            "Requirement already satisfied: contourpy>=1.0.1 in /usr/local/lib/python3.10/dist-packages (from matplotlib->HQGA) (1.3.1)\n",
            "Requirement already satisfied: cycler>=0.10 in /usr/local/lib/python3.10/dist-packages (from matplotlib->HQGA) (0.12.1)\n",
            "Requirement already satisfied: fonttools>=4.22.0 in /usr/local/lib/python3.10/dist-packages (from matplotlib->HQGA) (4.55.3)\n",
            "Requirement already satisfied: kiwisolver>=1.0.1 in /usr/local/lib/python3.10/dist-packages (from matplotlib->HQGA) (1.4.7)\n",
            "Requirement already satisfied: packaging>=20.0 in /usr/local/lib/python3.10/dist-packages (from matplotlib->HQGA) (24.2)\n",
            "Requirement already satisfied: pillow>=6.2.0 in /usr/local/lib/python3.10/dist-packages (from matplotlib->HQGA) (11.0.0)\n",
            "Requirement already satisfied: pyparsing>=2.3.1 in /usr/local/lib/python3.10/dist-packages (from matplotlib->HQGA) (3.2.0)\n",
            "Requirement already satisfied: six>=1.5 in /usr/local/lib/python3.10/dist-packages (from python-dateutil>=2.8.0->qiskit-ibmq-provider==0.20.2->HQGA) (1.17.0)\n",
            "Requirement already satisfied: charset-normalizer<4,>=2 in /usr/local/lib/python3.10/dist-packages (from requests>=2.19->qiskit-ibmq-provider==0.20.2->HQGA) (3.4.0)\n",
            "Requirement already satisfied: idna<4,>=2.5 in /usr/local/lib/python3.10/dist-packages (from requests>=2.19->qiskit-ibmq-provider==0.20.2->HQGA) (3.10)\n",
            "Requirement already satisfied: certifi>=2017.4.17 in /usr/local/lib/python3.10/dist-packages (from requests>=2.19->qiskit-ibmq-provider==0.20.2->HQGA) (2024.12.14)\n",
            "Collecting ntlm-auth>=1.0.2 (from requests-ntlm<=1.1.0->qiskit-ibmq-provider==0.20.2->HQGA)\n",
            "  Downloading ntlm_auth-1.5.0-py2.py3-none-any.whl.metadata (10 kB)\n",
            "Requirement already satisfied: cryptography>=1.3 in /usr/local/lib/python3.10/dist-packages (from requests-ntlm<=1.1.0->qiskit-ibmq-provider==0.20.2->HQGA) (43.0.3)\n",
            "Collecting pbr>=2.0.0 (from stevedore>=3.0.0->qiskit-terra==0.23.2->HQGA)\n",
            "  Downloading pbr-6.1.0-py2.py3-none-any.whl.metadata (3.4 kB)\n",
            "Requirement already satisfied: cffi>=1.12 in /usr/local/lib/python3.10/dist-packages (from cryptography>=1.3->requests-ntlm<=1.1.0->qiskit-ibmq-provider==0.20.2->HQGA) (1.17.1)\n",
            "Requirement already satisfied: pycparser in /usr/local/lib/python3.10/dist-packages (from cffi>=1.12->cryptography>=1.3->requests-ntlm<=1.1.0->qiskit-ibmq-provider==0.20.2->HQGA) (2.22)\n",
            "Downloading HQGA-0.2.0-py3-none-any.whl (12 kB)\n",
            "Downloading openpyxl-3.1.2-py2.py3-none-any.whl (249 kB)\n",
            "\u001b[2K   \u001b[90m━━━━━━━━━━━━━━━━━━━━━━━━━━━━━━━━━━━━━━━━\u001b[0m \u001b[32m250.0/250.0 kB\u001b[0m \u001b[31m4.6 MB/s\u001b[0m eta \u001b[36m0:00:00\u001b[0m\n",
            "\u001b[?25hDownloading qiskit_aer-0.12.0-cp310-cp310-manylinux_2_17_x86_64.manylinux2014_x86_64.whl (12.8 MB)\n",
            "\u001b[2K   \u001b[90m━━━━━━━━━━━━━━━━━━━━━━━━━━━━━━━━━━━━━━━━\u001b[0m \u001b[32m12.8/12.8 MB\u001b[0m \u001b[31m55.3 MB/s\u001b[0m eta \u001b[36m0:00:00\u001b[0m\n",
            "\u001b[?25hDownloading qiskit_ibmq_provider-0.20.2-py3-none-any.whl (241 kB)\n",
            "\u001b[2K   \u001b[90m━━━━━━━━━━━━━━━━━━━━━━━━━━━━━━━━━━━━━━━━\u001b[0m \u001b[32m241.5/241.5 kB\u001b[0m \u001b[31m13.5 MB/s\u001b[0m eta \u001b[36m0:00:00\u001b[0m\n",
            "\u001b[?25hDownloading qiskit_terra-0.23.2-cp310-cp310-manylinux_2_17_x86_64.manylinux2014_x86_64.whl (5.1 MB)\n",
            "\u001b[2K   \u001b[90m━━━━━━━━━━━━━━━━━━━━━━━━━━━━━━━━━━━━━━━━\u001b[0m \u001b[32m5.1/5.1 MB\u001b[0m \u001b[31m58.1 MB/s\u001b[0m eta \u001b[36m0:00:00\u001b[0m\n",
            "\u001b[?25hDownloading numpy-1.23.5-cp310-cp310-manylinux_2_17_x86_64.manylinux2014_x86_64.whl (17.1 MB)\n",
            "\u001b[2K   \u001b[90m━━━━━━━━━━━━━━━━━━━━━━━━━━━━━━━━━━━━━━━━\u001b[0m \u001b[32m17.1/17.1 MB\u001b[0m \u001b[31m50.9 MB/s\u001b[0m eta \u001b[36m0:00:00\u001b[0m\n",
            "\u001b[?25hDownloading dill-0.3.9-py3-none-any.whl (119 kB)\n",
            "\u001b[2K   \u001b[90m━━━━━━━━━━━━━━━━━━━━━━━━━━━━━━━━━━━━━━━━\u001b[0m \u001b[32m119.4/119.4 kB\u001b[0m \u001b[31m8.2 MB/s\u001b[0m eta \u001b[36m0:00:00\u001b[0m\n",
            "\u001b[?25hDownloading requests_ntlm-1.1.0-py2.py3-none-any.whl (5.7 kB)\n",
            "Downloading rustworkx-0.15.1-cp38-abi3-manylinux_2_17_x86_64.manylinux2014_x86_64.whl (2.0 MB)\n",
            "\u001b[2K   \u001b[90m━━━━━━━━━━━━━━━━━━━━━━━━━━━━━━━━━━━━━━━━\u001b[0m \u001b[32m2.0/2.0 MB\u001b[0m \u001b[31m50.1 MB/s\u001b[0m eta \u001b[36m0:00:00\u001b[0m\n",
            "\u001b[?25hDownloading stevedore-5.4.0-py3-none-any.whl (49 kB)\n",
            "\u001b[2K   \u001b[90m━━━━━━━━━━━━━━━━━━━━━━━━━━━━━━━━━━━━━━━━\u001b[0m \u001b[32m49.5/49.5 kB\u001b[0m \u001b[31m3.3 MB/s\u001b[0m eta \u001b[36m0:00:00\u001b[0m\n",
            "\u001b[?25hDownloading symengine-0.13.0-cp310-cp310-manylinux_2_17_x86_64.manylinux2014_x86_64.whl (49.7 MB)\n",
            "\u001b[2K   \u001b[90m━━━━━━━━━━━━━━━━━━━━━━━━━━━━━━━━━━━━━━━━\u001b[0m \u001b[32m49.7/49.7 MB\u001b[0m \u001b[31m9.5 MB/s\u001b[0m eta \u001b[36m0:00:00\u001b[0m\n",
            "\u001b[?25hDownloading ntlm_auth-1.5.0-py2.py3-none-any.whl (29 kB)\n",
            "Downloading pbr-6.1.0-py2.py3-none-any.whl (108 kB)\n",
            "\u001b[2K   \u001b[90m━━━━━━━━━━━━━━━━━━━━━━━━━━━━━━━━━━━━━━━━\u001b[0m \u001b[32m108.5/108.5 kB\u001b[0m \u001b[31m7.8 MB/s\u001b[0m eta \u001b[36m0:00:00\u001b[0m\n",
            "\u001b[?25hBuilding wheels for collected packages: qiskit\n",
            "  Building wheel for qiskit (setup.py) ... \u001b[?25l\u001b[?25hdone\n",
            "  Created wheel for qiskit: filename=qiskit-0.42.0-py3-none-any.whl size=12911 sha256=fcfe23400e4a6042e11b414aa90c164a06fd7a7a119403c3dc916bed1199bf5b\n",
            "  Stored in directory: /root/.cache/pip/wheels/45/48/9e/b72192ab554955cfe6eaf284324e50cdb0d716427a294ad0dd\n",
            "Successfully built qiskit\n",
            "Installing collected packages: symengine, pbr, openpyxl, numpy, ntlm-auth, dill, stevedore, rustworkx, requests-ntlm, qiskit-terra, qiskit-ibmq-provider, qiskit-aer, qiskit, HQGA\n",
            "  Attempting uninstall: openpyxl\n",
            "    Found existing installation: openpyxl 3.1.5\n",
            "    Uninstalling openpyxl-3.1.5:\n",
            "      Successfully uninstalled openpyxl-3.1.5\n",
            "  Attempting uninstall: numpy\n",
            "    Found existing installation: numpy 1.26.4\n",
            "    Uninstalling numpy-1.26.4:\n",
            "      Successfully uninstalled numpy-1.26.4\n",
            "\u001b[31mERROR: pip's dependency resolver does not currently take into account all the packages that are installed. This behaviour is the source of the following dependency conflicts.\n",
            "albucore 0.0.19 requires numpy>=1.24.4, but you have numpy 1.23.5 which is incompatible.\n",
            "albumentations 1.4.20 requires numpy>=1.24.4, but you have numpy 1.23.5 which is incompatible.\n",
            "bigframes 1.29.0 requires numpy>=1.24.0, but you have numpy 1.23.5 which is incompatible.\n",
            "chex 0.1.88 requires numpy>=1.24.1, but you have numpy 1.23.5 which is incompatible.\n",
            "jax 0.4.33 requires numpy>=1.24, but you have numpy 1.23.5 which is incompatible.\n",
            "jaxlib 0.4.33 requires numpy>=1.24, but you have numpy 1.23.5 which is incompatible.\n",
            "pymc 5.19.1 requires numpy>=1.25.0, but you have numpy 1.23.5 which is incompatible.\n",
            "scikit-image 0.25.0 requires numpy>=1.24, but you have numpy 1.23.5 which is incompatible.\n",
            "xarray 2024.11.0 requires numpy>=1.24, but you have numpy 1.23.5 which is incompatible.\u001b[0m\u001b[31m\n",
            "\u001b[0mSuccessfully installed HQGA-0.2.0 dill-0.3.9 ntlm-auth-1.5.0 numpy-1.23.5 openpyxl-3.1.2 pbr-6.1.0 qiskit-0.42.0 qiskit-aer-0.12.0 qiskit-ibmq-provider-0.20.2 qiskit-terra-0.23.2 requests-ntlm-1.1.0 rustworkx-0.15.1 stevedore-5.4.0 symengine-0.13.0\n"
          ]
        },
        {
          "output_type": "display_data",
          "data": {
            "application/vnd.colab-display-data+json": {
              "pip_warning": {
                "packages": [
                  "numpy"
                ]
              },
              "id": "739b3b2a1a074d4e97cc6c8db1f4f0b4"
            }
          },
          "metadata": {}
        }
      ],
      "source": [
        "!pip install HQGA"
      ]
    }
  ],
  "metadata": {
    "kernelspec": {
      "display_name": "Python 3",
      "language": "python",
      "name": "python3"
    },
    "language_info": {
      "codemirror_mode": {
        "name": "ipython",
        "version": 3
      },
      "file_extension": ".py",
      "mimetype": "text/x-python",
      "name": "python",
      "nbconvert_exporter": "python",
      "pygments_lexer": "ipython3",
      "version": "3.7.6"
    },
    "colab": {
      "provenance": []
    }
  },
  "nbformat": 4,
  "nbformat_minor": 0
}